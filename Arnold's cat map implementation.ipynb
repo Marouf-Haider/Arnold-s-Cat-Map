{
 "cells": [
  {
   "cell_type": "markdown",
   "id": "8c3bcc93",
   "metadata": {},
   "source": [
    "# ============================================\n",
    "# Arnold's Cat Map Project\n",
    "# ============================================\n",
    "\n",
    "# Developed by: Marouf Haider & Bahidj Nafaa\n",
    "# School: National Higher School of Mathematics\n",
    "# Course: Algebra & Coding (3rd Year)\n",
    "# Academic Year: 2023–2024"
   ]
  },
  {
   "cell_type": "markdown",
   "id": "40bee631",
   "metadata": {},
   "source": [
    "# Imports"
   ]
  },
  {
   "cell_type": "code",
   "execution_count": 1,
   "id": "cdbf4b7a",
   "metadata": {},
   "outputs": [],
   "source": [
    "import numpy as np\n",
    "import cv2\n",
    "from numpy import ones as o\n",
    "from numpy import lcm as l"
   ]
  },
  {
   "cell_type": "markdown",
   "id": "e78b97fe",
   "metadata": {},
   "source": [
    "# ENCODING USING ARNOLD'S CAT MAP"
   ]
  },
  {
   "cell_type": "code",
   "execution_count": 2,
   "id": "b19f1260",
   "metadata": {},
   "outputs": [],
   "source": [
    "def apply_arnold_cat_map(image, iterations):\n",
    "    \n",
    "    # Get image size (assumes square image)\n",
    "    N = image.shape[0]\n",
    "\n",
    "    # Initialize empty image of same shape\n",
    "    encoded_image = np.zeros_like(image)\n",
    "\n",
    "    # Iterate through each pixel coordinate\n",
    "    for x in range(N):\n",
    "        for y in range(N):\n",
    "            # Start with current pixel position\n",
    "            x_new, y_new = x, y\n",
    "\n",
    "            # Apply ACM transformation 'iterations' times\n",
    "            for i in range(iterations):\n",
    "                x_new, y_new = (x_new + y_new) % N, (x_new + 2 * y_new) % N\n",
    "\n",
    "            # Place pixel in new position\n",
    "            encoded_image[x_new, y_new] = image[x, y]\n",
    "\n",
    "    # Return the encoded image\n",
    "    return encoded_image\n"
   ]
  },
  {
   "cell_type": "markdown",
   "id": "db104659",
   "metadata": {},
   "source": [
    "# MINIMAL PERIOD CALCULATION"
   ]
  },
  {
   "cell_type": "code",
   "execution_count": 3,
   "id": "bdf9ea95",
   "metadata": {},
   "outputs": [],
   "source": [
    "def minimal_period(n):\n",
    "    \n",
    "    # Initialize least common multiple accumulator\n",
    "    p = 1\n",
    "\n",
    "    # Create n x n matrix of ones (to mark unvisited positions)\n",
    "    li = o([n, n])\n",
    "\n",
    "    # Iterate through every pixel (i, j)\n",
    "    for i in range(n):\n",
    "        for j in range(n):\n",
    "\n",
    "            # If the current position has not been visited\n",
    "            if int(li[i][j]) == 1:\n",
    "\n",
    "                # Count steps (c) in the orbit of (i, j)\n",
    "                c = 1\n",
    "                i_1 = i\n",
    "                j_1 = j\n",
    "\n",
    "                # Apply the ACM repeatedly until we return to the original pixel\n",
    "                while ((2 * i_1 + j_1) % n) != i or ((i_1 + j_1) % n) != j:\n",
    "                    a = i_1\n",
    "                    i_1 = (2 * i_1 + j_1) % n\n",
    "                    j_1 = (a + j_1) % n\n",
    "                    c += 1\n",
    "\n",
    "                    # Mark this position as visited\n",
    "                    li[i_1][j_1] = 0\n",
    "\n",
    "                # Update the least common multiple with the orbit length\n",
    "                p = l(p, c)\n",
    "\n",
    "    return p\n"
   ]
  },
  {
   "cell_type": "markdown",
   "id": "80dbb76d",
   "metadata": {},
   "source": [
    "# RETRIEVING ORIGINAL IMAGE\n"
   ]
  },
  {
   "cell_type": "code",
   "execution_count": 4,
   "id": "6cca937e",
   "metadata": {},
   "outputs": [],
   "source": [
    "def retrieve(encoded_image, iterations):     \n",
    "    # Extract image size from encoded image (assumes global variable or previously loaded)\n",
    "    N = encoded_image.shape[0]\n",
    "\n",
    "    # Compute minimal period for this image size\n",
    "    period = minimal_period(N)\n",
    "\n",
    "    # Compute how many more iterations are needed to restore the image\n",
    "    reverse_iterations = period - (iterations % period)\n",
    "\n",
    "    # Apply inverse transformation using the remaining iterations\n",
    "    return apply_arnold_cat_map(encoded_image, reverse_iterations)\n"
   ]
  },
  {
   "cell_type": "markdown",
   "id": "85e99404",
   "metadata": {},
   "source": [
    "# Example Usage"
   ]
  },
  {
   "cell_type": "code",
   "execution_count": 22,
   "id": "ec6bbfbf",
   "metadata": {},
   "outputs": [
    {
     "data": {
      "text/plain": [
       "True"
      ]
     },
     "execution_count": 22,
     "metadata": {},
     "output_type": "execute_result"
    }
   ],
   "source": [
    "# Example: Encode an image using Arnold's Cat Map and show intermediate steps\n",
    "input_image_path = 'assets/test_image.jpg'  # Path to square grayscale image in the assets folder\n",
    "# Load image in grayscale mode\n",
    "image = cv2.imread(input_image_path, cv2.IMREAD_GRAYSCALE)\n",
    "\n",
    "# Check if image was loaded successfully\n",
    "if image is None:\n",
    "    raise ValueError(\"Image could not be read. Check the file path.\")\n",
    " \n",
    "# Check if image is square\n",
    "if image.shape[0] != image.shape[1]:\n",
    "    raise ValueError(\"Image must be square (same width and height).\")   \n",
    "\n",
    "iterations = 10  # Number of iterations for scrambling\n",
    "current_image = image\n",
    "for i in range(1, iterations + 1):\n",
    "    current_image = apply_arnold_cat_map(current_image, 1)\n",
    "    cv2.imshow('Encoding Progress', current_image)\n",
    "    if i == iterations:\n",
    "        cv2.waitKey(0)  # Wait for key press at the final result\n",
    "    else:\n",
    "        cv2.waitKey(500)  # Show intermediate steps for 0.5 seconds\n",
    "cv2.destroyAllWindows()\n",
    "encoded_image = current_image\n",
    "cv2.imwrite(f'outputs/encoded_image{iterations}.jpg', encoded_image)"
   ]
  },
  {
   "cell_type": "code",
   "execution_count": 23,
   "id": "7d6f65d6",
   "metadata": {},
   "outputs": [
    {
     "data": {
      "text/plain": [
       "True"
      ]
     },
     "execution_count": 23,
     "metadata": {},
     "output_type": "execute_result"
    }
   ],
   "source": [
    "# Example: Retrieve the original image from the encoded image\n",
    "iterations = 10  # The same number of iterations used for encoding\n",
    "encoded_image_path = f'outputs/encoded_image{iterations}.jpg'  # Path to the scrambled image in the outputs folder\n",
    "\n",
    "# Load image in grayscale mode\n",
    "encoded_image = cv2.imread(encoded_image_path, cv2.IMREAD_GRAYSCALE)\n",
    "\n",
    "# Check if image was loaded successfully\n",
    "if encoded_image is None:\n",
    "    raise ValueError(\"Image could not be read. Check the file path.\")\n",
    " \n",
    "# Check if image is square\n",
    "if encoded_image.shape[0] != encoded_image.shape[1]:\n",
    "    raise ValueError(\"Image must be square (same width and height).\") \n",
    "\n",
    "# Retrieve the original image using the retrieve function\n",
    "retrieved_image = retrieve(encoded_image, iterations)\n",
    "cv2.imshow('Retrieved Image', retrieved_image)\n",
    "cv2.waitKey(0)\n",
    "cv2.destroyAllWindows()\n",
    "cv2.imwrite('outputs/retrieved_image.jpg', retrieved_image)"
   ]
  }
 ],
 "metadata": {
  "kernelspec": {
   "display_name": "Python 3",
   "language": "python",
   "name": "python3"
  },
  "language_info": {
   "codemirror_mode": {
    "name": "ipython",
    "version": 3
   },
   "file_extension": ".py",
   "mimetype": "text/x-python",
   "name": "python",
   "nbconvert_exporter": "python",
   "pygments_lexer": "ipython3",
   "version": "3.13.3"
  }
 },
 "nbformat": 4,
 "nbformat_minor": 5
}
